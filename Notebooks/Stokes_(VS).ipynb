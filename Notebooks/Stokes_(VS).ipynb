{
 "cells": [
  {
   "cell_type": "markdown",
   "metadata": {},
   "source": [
    "# Stokes Paramters (Pulsars)"
   ]
  },
  {
   "cell_type": "code",
   "execution_count": null,
   "metadata": {},
   "outputs": [],
   "source": [
    "import numpy as np\n",
    "import matplotlib.pyplot as plt\n",
    "import pandas as pd"
   ]
  },
  {
   "cell_type": "code",
   "execution_count": null,
   "metadata": {},
   "outputs": [],
   "source": [
    "df = pd.read_table('pulse_724501465.ar.txt',delimiter=' ',header=1)\n",
    "data = np.asarray(df)\n",
    "df"
   ]
  },
  {
   "cell_type": "code",
   "execution_count": null,
   "metadata": {},
   "outputs": [],
   "source": [
    "x = data[:,2]\n",
    "x = x\n",
    "\n",
    "y1 = data[:,3]\n",
    "y1 = y1\n",
    "\n",
    "y2 = data[:,4]\n",
    "y2 = y2\n",
    "\n",
    "y3 = data[:,5]\n",
    "y3 = y3\n",
    "\n",
    "y4=  data[:,6]\n",
    "y4 = y4"
   ]
  },
  {
   "cell_type": "code",
   "execution_count": null,
   "metadata": {},
   "outputs": [],
   "source": [
    "plt.figure()\n",
    "plt.figure(figsize=(4,9))\n",
    "plt.subplot(211)\n",
    "plt.plot(y4[300:400],label='V')\n",
    "plt.plot(np.sqrt(y2**2+y3**2)[300:400],'-',label='L')\n",
    "plt.plot(y1[300:400],'--',label='I')\n",
    "plt.legend()\n",
    "\n",
    "plt.subplot(212)\n",
    "\n",
    "plt.plot(np.arctan(y3/y2)[300:400])\n",
    "plt.show()\n"
   ]
  },
  {
   "cell_type": "code",
   "execution_count": null,
   "metadata": {},
   "outputs": [],
   "source": []
  }
 ],
 "metadata": {
  "kernelspec": {
   "display_name": "Python 3",
   "language": "python",
   "name": "python3"
  },
  "language_info": {
   "codemirror_mode": {
    "name": "ipython",
    "version": 3
   },
   "file_extension": ".py",
   "mimetype": "text/x-python",
   "name": "python",
   "nbconvert_exporter": "python",
   "pygments_lexer": "ipython3",
   "version": "3.7.5"
  }
 },
 "nbformat": 4,
 "nbformat_minor": 2
}
