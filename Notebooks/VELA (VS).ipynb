{
 "cells": [
  {
   "cell_type": "markdown",
   "metadata": {},
   "source": [
    "# Vela pulsar observations with the Ooty Radio Telescope"
   ]
  },
  {
   "cell_type": "markdown",
   "metadata": {},
   "source": [
    "We have been given a sample of the voltage signal obtained from an observation of the Vela pulsar (PSR B0833-45) with the Ooty Radio Telescope. The Ooty Radio Telescope consists of a cylindrical paraboloid reflecting surface which is 530 m long and 30 m wide, placed on a slope of 11.2 degrees in the north-south direction in Muthorai village near Ooty. The signal detectors consist of an array of 1056 half-wave dipoles which are operated to produce phased array beams in the sky.\n",
    "\n",
    "The observation has been conducted at 326.5 MHz with a bandwidth of 16.5 MHz, and the voltage signals from the northern and southern half of the telescope is available to us. Note that we will not use any specific set of units to quantify the voltage or the intensity signals, since no calibration data has been provided."
   ]
  },
  {
   "cell_type": "markdown",
   "metadata": {},
   "source": [
    "## Statistics with the Data "
   ]
  },
  {
   "cell_type": "code",
   "execution_count": null,
   "metadata": {},
   "outputs": [],
   "source": [
    "import matplotlib as mpl\n",
    "import numpy as np\n",
    "import pandas as pd\n",
    "import matplotlib.pyplot as plt\n",
    "%matplotlib inline\n",
    "from scipy.optimize import curve_fit\n",
    "from scipy.stats import norm\n",
    "import scipy.signal as sc\n",
    "from IPython.display import Latex\n",
    "from scipy.ndimage import shift"
   ]
  },
  {
   "cell_type": "code",
   "execution_count": null,
   "metadata": {},
   "outputs": [],
   "source": [
    "df = pd.read_table('Python/ch00_B0833-45_20150612_191438_010_4.dms',delimiter=' ',header= None)\n",
    "data = np.asarray(df)"
   ]
  },
  {
   "cell_type": "code",
   "execution_count": null,
   "metadata": {},
   "outputs": [],
   "source": [
    "V_nth = []\n",
    "V_sth = []\n",
    "Nmax=512\n",
    "for i in range(Nmax):\n",
    "    V_nth.append(df.values[i][0])\n",
    "    V_sth.append(df.values[i][1])"
   ]
  },
  {
   "cell_type": "code",
   "execution_count": null,
   "metadata": {},
   "outputs": [],
   "source": [
    "mu1 , sig1 = norm.fit(V_nth)\n",
    "mu2 , sig2 = norm.fit(V_sth)\n",
    "\n",
    "print('Mean1: ',mu1,\" \",'Std1: ',sig1)\n",
    "print('Mean2: ',mu2,\" \",'Std2: ',sig2)"
   ]
  },
  {
   "cell_type": "code",
   "execution_count": null,
   "metadata": {},
   "outputs": [],
   "source": [
    "plt.figure(figsize=(10,4))\n",
    "\n",
    "plt.subplot(1,2,1)\n",
    "plt.title('Voltage Distribution (North Pole)')\n",
    "plt.hist(V_nth)\n",
    "\n",
    "plt.figure(figsize=(10,4))\n",
    "plt.subplot(1,2,2)\n",
    "plt.title('Voltage Distribution (Southn Pole)')\n",
    "plt.hist(V_sth)\n",
    "\n"
   ]
  },
  {
   "cell_type": "code",
   "execution_count": null,
   "metadata": {},
   "outputs": [],
   "source": [
    "\n",
    "n1,bins1,patches1=plt.hist(V_nth,20,normed=1,facecolor='b',align='mid')\n",
    "y1 = norm.pdf(bins1,mu1,sig1)\n",
    "plt.plot(bins1,y1,'k--',lw=2,label='Fitting')\n",
    "plt.title('Voltage Distribution (North Pole)')\n",
    "plt.show()\n",
    "\n",
    "n2,bins2,patches2=plt.hist(V_sth,20,normed=1,facecolor='b',align='mid')\n",
    "y2 = norm.pdf(bins2,mu2,sig2)\n",
    "plt.plot(bins2,y2,'k--',lw=2,label='Fitting')\n",
    "plt.title('Voltage Distribution (South Pole)')\n",
    "\n",
    "plt.legend()\n",
    "plt.show()\n"
   ]
  },
  {
   "cell_type": "code",
   "execution_count": null,
   "metadata": {},
   "outputs": [],
   "source": [
    "'exponential fit'\n",
    "\n",
    "P_nth = list(np.array(V_nth)**2)\n",
    "n3, bins3, patches3 = plt.hist(P_nth, histtype = u'stepfilled')\n",
    "plt.title('Power Distribution (North Pole)')\n",
    "plt.show()\n",
    "\n",
    "P_sth = list(np.array(V_sth)**2)\n",
    "n4, bins4, patches4 = plt.hist(P_sth, histtype = u'stepfilled')\n",
    "plt.title('Power Distribution (South Pole)')\n",
    "plt.show()"
   ]
  },
  {
   "cell_type": "code",
   "execution_count": null,
   "metadata": {},
   "outputs": [],
   "source": [
    "VS_FFT= np.fft.fft(V_sth); VN_FFT=np.fft.fft(V_nth)"
   ]
  },
  {
   "cell_type": "code",
   "execution_count": null,
   "metadata": {},
   "outputs": [],
   "source": [
    "plt.figure(figsize = (12,4))\n",
    "plt.subplot(121)\n",
    "plt.plot(V_nth)\n",
    "plt.title('Time Domain')\n",
    "\n",
    "plt.subplot(122)\n",
    "plt.plot(abs(VN_FFT))\n",
    "plt.title('Frequency Domain')\n",
    "\n",
    "plt.show()"
   ]
  },
  {
   "cell_type": "markdown",
   "metadata": {},
   "source": [
    "# Power Spectra"
   ]
  },
  {
   "cell_type": "code",
   "execution_count": null,
   "metadata": {},
   "outputs": [],
   "source": [
    "Nmax= 512\n",
    "Navg=256\n",
    "VS_FFT= np.zeros([Navg,Nmax], 'complex')\n",
    "VN_FFT= np.zeros([Navg,Nmax], 'complex')\n",
    "istart=0\n",
    "iend=Nmax\n",
    "for i in range(Navg):\n",
    "    V_nth=data[istart:iend,0]\n",
    "    V_sth=data[istart:iend,1]\n",
    "    VS_FFT[i:]=np.fft.fft(V_sth)\n",
    "    VN_FFT[i:]=np.fft.fft(V_nth)\n",
    "    istart+=Nmax; iend+=Nmax"
   ]
  },
  {
   "cell_type": "code",
   "execution_count": null,
   "metadata": {},
   "outputs": [],
   "source": [
    "VS_FFTavg = np.mean(abs(VS_FFT),axis=0)\n",
    "VN_FFTavg = np.mean(abs(VN_FFT),axis=0)"
   ]
  },
  {
   "cell_type": "code",
   "execution_count": null,
   "metadata": {},
   "outputs": [],
   "source": [
    "plt.figure(figsize = (12,4))\n",
    "\n",
    "plt.subplot(121)\n",
    "plt.plot(VS_FFTavg)\n",
    "plt.xlim(0,Nmax/2)\n",
    "plt.title('Power Spectra (North Pole)')\n",
    "plt.xlabel('frequency')\n",
    "plt.ylabel('power')\n",
    "\n",
    "plt.subplot(122)\n",
    "plt.plot(VN_FFTavg)\n",
    "plt.xlim(0,Nmax/2)\n",
    "plt.title('Power Spectra (South Pole)')\n",
    "plt.xlabel('frequency')\n",
    "plt.ylabel('power')\n",
    "plt.show()"
   ]
  },
  {
   "cell_type": "markdown",
   "metadata": {},
   "source": [
    "# Dynamic Spectra"
   ]
  },
  {
   "cell_type": "code",
   "execution_count": null,
   "metadata": {},
   "outputs": [],
   "source": [
    "Vn = df[0]\n",
    "Vs = df[1]"
   ]
  },
  {
   "cell_type": "code",
   "execution_count": null,
   "metadata": {},
   "outputs": [],
   "source": [
    "Vn_sd = Vn[0:512]\n",
    "Vs_sd = Vs[0:512]"
   ]
  },
  {
   "cell_type": "code",
   "execution_count": null,
   "metadata": {},
   "outputs": [],
   "source": [
    "Vn_sd_fft = np.fft.fft(Vn_sd)\n",
    "Vs_sd_fft = np.fft.fft(Vs_sd)"
   ]
  },
  {
   "cell_type": "code",
   "execution_count": null,
   "metadata": {},
   "outputs": [],
   "source": [
    "image = []\n",
    "i=0\n",
    "j=0\n",
    "while i <len(Vn):\n",
    "    k = i\n",
    "    i = i + 512\n",
    "    Vn_new = Vn[k:i]\n",
    "    Vn_new_fft = np.fft.fft(Vn_new)\n",
    "    Vn_modsq = Vn_new_fft*np.conj(Vn_new_fft)\n",
    "    image.append(Vn_modsq.real[0:512])"
   ]
  },
  {
   "cell_type": "code",
   "execution_count": null,
   "metadata": {},
   "outputs": [],
   "source": [
    "i = 0\n",
    "image_2 = []\n",
    "while i < len(image):\n",
    "    k = i\n",
    "    i = i + 60\n",
    "    stacked = np.stack(image[k:i])\n",
    "    avg = np.average(stacked, axis = 0)\n",
    "    image_2.append(avg)"
   ]
  },
  {
   "cell_type": "code",
   "execution_count": null,
   "metadata": {},
   "outputs": [],
   "source": [
    "len(image_2), len(image_2[0])"
   ]
  },
  {
   "cell_type": "code",
   "execution_count": null,
   "metadata": {},
   "outputs": [],
   "source": [
    "d_spectra = np.matrix(image_2)\n",
    "d_spectra_1 = d_spectra.transpose() "
   ]
  },
  {
   "cell_type": "code",
   "execution_count": null,
   "metadata": {},
   "outputs": [],
   "source": [
    "plt.figure(figsize=(15,20))\n",
    "\n",
    "plt.imshow(d_spectra_1)\n",
    "plt.title('Dynamic Spectra (North Pole)',fontsize=16)\n",
    "plt.xlabel('Time (ms)',fontsize=15)\n",
    "plt.ylabel('Frequency ($\\\\nu$)',fontsize=15)\n",
    "\n",
    "#plt.savefig('dynamic_spectra1.png')"
   ]
  },
  {
   "cell_type": "code",
   "execution_count": null,
   "metadata": {},
   "outputs": [],
   "source": [
    "image = []\n",
    "i=0\n",
    "j=0\n",
    "while i <len(Vn):\n",
    "    k = i\n",
    "    i = i + 512\n",
    "    Vs_new = Vn[k:i]\n",
    "    Vs_new_fft = np.fft.fft(Vs_new)\n",
    "    Vs_modsq = Vs_new_fft*np.conj(Vs_new_fft)\n",
    "    Vs_real = Vs_modsq.real\n",
    "    image.append(Vs_real[0:256])"
   ]
  },
  {
   "cell_type": "code",
   "execution_count": null,
   "metadata": {},
   "outputs": [],
   "source": [
    "i = 0\n",
    "image_2 = []\n",
    "while i < len(image):\n",
    "    k = i\n",
    "    i = i + 60\n",
    "    stacked = np.stack(image[k:i])\n",
    "    avg = np.average(stacked, axis = 0)\n",
    "    image_2.append(avg)"
   ]
  },
  {
   "cell_type": "code",
   "execution_count": null,
   "metadata": {},
   "outputs": [],
   "source": [
    "d_spectra_N = np.matrix(image_2)\n",
    "d_spectra_2 = d_spectra_N.transpose() "
   ]
  },
  {
   "cell_type": "code",
   "execution_count": null,
   "metadata": {},
   "outputs": [],
   "source": [
    "plt.figure(figsize=(15,20))\n",
    "\n",
    "plt.imshow(d_spectra_2)\n",
    "plt.title('Dynamic Spectra (North Pole)',fontsize=16)\n",
    "plt.xlabel('Time (ms)',fontsize=15)\n",
    "plt.ylabel('Frequency ($\\\\nu$)',fontsize=15)\n",
    "\n",
    "#plt.savefig('dynamic_spectra2.png')"
   ]
  },
  {
   "cell_type": "markdown",
   "metadata": {},
   "source": [
    "# Correlation between the signals from North and South Poles"
   ]
  },
  {
   "cell_type": "code",
   "execution_count": null,
   "metadata": {},
   "outputs": [],
   "source": [
    "image_c= []\n",
    "i=0\n",
    "j=0\n",
    "while i <len(Vn):\n",
    "    k = i\n",
    "    i = i + 512\n",
    "    VN_new = Vn[k:i]\n",
    "    VS_new = Vs[k:i]\n",
    "    VN_fft = np.array(np.fft.fft(VN_new))\n",
    "    VS_fft = np.array(np.fft.fft(VS_new))\n",
    "    V_corr_fft = (VN_fft*np.conj(VS_fft))\n",
    "    V_modsq = V_corr_fft*np.conj(V_corr_fft)\n",
    "    V_real = V_modsq.real\n",
    "    image_c.append(V_real[0:256])"
   ]
  },
  {
   "cell_type": "code",
   "execution_count": null,
   "metadata": {},
   "outputs": [],
   "source": [
    "i = 0\n",
    "image_corr = []\n",
    "while i < len(image_c):\n",
    "    k = i\n",
    "    i = i + 64\n",
    "    stacked_corr = np.stack(image_c[k:i])\n",
    "    avg_corr = np.average(stacked_corr, axis = 0)\n",
    "    image_corr.append(avg_corr)"
   ]
  },
  {
   "cell_type": "code",
   "execution_count": null,
   "metadata": {},
   "outputs": [],
   "source": [
    "d_spectra_c = np.matrix(image_corr)\n",
    "d_spectra_corr = d_spectra_c.transpose() "
   ]
  },
  {
   "cell_type": "code",
   "execution_count": null,
   "metadata": {
    "scrolled": true
   },
   "outputs": [],
   "source": [
    "plt.figure(figsize=(15,20))\n",
    "plt.imshow(d_spectra_corr)\n",
    "plt.title('Cross power spectra',fontsize=16)\n",
    "plt.xlabel('Time (ms)',fontsize=15)\n",
    "plt.ylabel('Frequency ($\\\\nu$)',fontsize=15)\n",
    "\n",
    "#plt.savefig('dynamic_spectra_cross_corr.png')"
   ]
  },
  {
   "cell_type": "markdown",
   "metadata": {},
   "source": [
    "# De-Dispersion of the Signal"
   ]
  },
  {
   "cell_type": "code",
   "execution_count": null,
   "metadata": {},
   "outputs": [],
   "source": [
    "dedisp = np.zeros((256,938))\n",
    "frequency_channel =  256\n",
    "bandwidth = 16.5\n",
    "cen_freq = 326.5\n",
    "DM = 70\n",
    "freq = np.linspace(cen_freq-bandwidth/2,cen_freq+bandwidth/2,frequency_channel-1)"
   ]
  },
  {
   "cell_type": "code",
   "execution_count": null,
   "metadata": {},
   "outputs": [],
   "source": [
    "a1 = np.transpose(image_corr)"
   ]
  },
  {
   "cell_type": "code",
   "execution_count": null,
   "metadata": {},
   "outputs": [],
   "source": [
    "for i in range(255):\n",
    "    delay = 4.15*1e6*DM*(((freq[i])**-2)-((cen_freq)**-2))   \n",
    "    dedisp[i] = shift(a1[i],delay) "
   ]
  },
  {
   "cell_type": "code",
   "execution_count": null,
   "metadata": {},
   "outputs": [],
   "source": [
    "plt.figure(figsize=(15,20))\n",
    "plt.imshow(dedisp)\n",
    "plt.title('De-Dispersion',fontsize=16)\n",
    "plt.xlabel('Time (ms)',fontsize=15)\n",
    "plt.ylabel('Frequency ($\\\\nu$)',fontsize=15)\n",
    "\n",
    "#plt.savefig('dedispersed_image.png')"
   ]
  },
  {
   "cell_type": "code",
   "execution_count": null,
   "metadata": {},
   "outputs": [],
   "source": [
    "new = dedisp[:,80:750]\n",
    "pulses = dedisp.sum(0)[150:750]"
   ]
  },
  {
   "cell_type": "code",
   "execution_count": null,
   "metadata": {},
   "outputs": [],
   "source": [
    "plt.plot(pulses)"
   ]
  },
  {
   "cell_type": "code",
   "execution_count": null,
   "metadata": {},
   "outputs": [],
   "source": [
    "y = new.sum(0)\n",
    "y = y[400:470]\n",
    "x = np.linspace(400,470,len(y))\n",
    "plt.plot(x,y)"
   ]
  },
  {
   "cell_type": "markdown",
   "metadata": {},
   "source": [
    "# Time Period of the Pulsar"
   ]
  },
  {
   "cell_type": "code",
   "execution_count": null,
   "metadata": {},
   "outputs": [],
   "source": [
    "# Now try to find out the period of a pulsar"
   ]
  }
 ],
 "metadata": {
  "kernelspec": {
   "display_name": "Python 3",
   "language": "python",
   "name": "python3"
  },
  "language_info": {
   "codemirror_mode": {
    "name": "ipython",
    "version": 3
   },
   "file_extension": ".py",
   "mimetype": "text/x-python",
   "name": "python",
   "nbconvert_exporter": "python",
   "pygments_lexer": "ipython3",
   "version": "3.7.5"
  }
 },
 "nbformat": 4,
 "nbformat_minor": 2
}
